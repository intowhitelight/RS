{
  "nbformat": 4,
  "nbformat_minor": 0,
  "metadata": {
    "colab": {
      "provenance": [],
      "authorship_tag": "ABX9TyMIgCN/r1Z2jret7GznHb1D",
      "include_colab_link": true
    },
    "kernelspec": {
      "name": "python3",
      "display_name": "Python 3"
    },
    "language_info": {
      "name": "python"
    }
  },
  "cells": [
    {
      "cell_type": "markdown",
      "metadata": {
        "id": "view-in-github",
        "colab_type": "text"
      },
      "source": [
        "<a href=\"https://colab.research.google.com/github/paulodowd/EMATM0054_53/blob/main/Project_3_GradientBasedPositionControl.ipynb\" target=\"_parent\"><img src=\"https://colab.research.google.com/assets/colab-badge.svg\" alt=\"Open In Colab\"/></a>"
      ]
    },
    {
      "cell_type": "markdown",
      "source": [
        "# Project 3: Gradient Based Position Control\n",
        "\n",
        "# Observation\n",
        "\n",
        "If the 3Pi+ is tasked with travelling across a surface which has a gradient of reflectivity (produced simply by a gradient of black-to-white) and coming to a stop at a target location.  We know that the line sensors are capable of detecting a difference in reflectivity although with some degree of noise.  With careful thought and experimentation, it should be possible to find and evidence the maximum number of discrete reflectivity intervals that can be discriminated, demonstrated and measured by the robot stopping at a target position along the gradient.\n",
        "\n",
        "<p align=\"center\">\n",
        "<img src=\"https://github.com/paulodowd/EMATM0054_53/blob/main/Images/project3_gradient.png?raw=true\">\n",
        "</p>\n",
        "\n",
        "# Hypothesis\n",
        "\n",
        "There are a few general hypotheses that can be made and taken forwards:\n",
        "\n",
        "- **Filtering**: The robot is able to make many sensor measurements within a unit of time of the robot travel.  Therefore, it should be possible for the robot to collect samples and apply a digital filter to improve the overall perception of the surface. If this can be achieved, we would expect to be able to generate more target positions, and for the robot to be able to reliably stop at these target positions.\n",
        "- **Surface Gradient:** If the response of the line sensors to surface reflectivity is non-linear, it may be possible to design a more effective gradient (a non-linear gradient) to place on a surface.  Therefore, the number of precise stopping locations could potentially be improved by modifying the environment.  If this can be achieved, we would expect to be able to generate more target positions, and for the robot to be able to reliably stop at these target positions.\n",
        "- **Multiple information sources:** We know that within one of the sensor reading techniques (ADC or Digital) the line sensors all respond slightly differently, even though they are measuring the same surface (approximately).  Therefore, it should be possible to combine the measurements of all 5 sensors to improve the overall perception of the surface.  We can think of this as the over-lapping area between error bars for a set of measuremnts.  It may be possible to utilise the slight offset in physical position of the sensors, where they are sampling the surface at slightly different locations.  If this can be achieved, we would expect to be able to generate more target positions, and for the robot to be able to reliably stop at these target positions.\n",
        "- **Sensor Read Technique:** From Labsheet 2, there are two approaches to reading the sensors: ADC and Digital.  These techniques operate differently and produce different types of performance.  Similar to \"multiple information sources\", this hypothesis has a focus on exploiting the different techniques used to read the sensors instead.  If this can be achieved, we would expect to be able to generate more target positions, and for the robot to be able to reliably stop at these target positions.\n",
        "- **Robot Behaviour:** It may be possible to investigate a higher level robot behaviour, such as scanning or multiple passes.  With the gradient above, the linear gradient is consistent in the vertical direction (top-to-bottom).  Therefore, if the robot is intentionally misaligned (e.g. it moves itself to a  diagonal rotation, it may be able to exploit the difference and range of samples across a larger surface area.  If this can be achieved, we would expect to be able to generate more target positions, and for the robot to be able to reliably move itself and stop at these target positions.\n",
        "\n",
        "# Implementation\n",
        "\n",
        "Because we will use \"reliably stopping at a target\" as a key measurement of the system, it will be necessary to first implement and measure the effectiveness of PID applied for position control.  Once the performance of position control is ascertained, the main investigation for improving line sensor performance can take place. It will be necessary to innovate beyond the techniques provided in Labsheet 2: Line Sensors to improve the performance of the line sensors.\n",
        "\n",
        "# Measurements & Results\n",
        "\n",
        "The main measurements and results for these experiments will be the final stopping position of the robot, with respect to a specified target position.  To evidence a level of precision and accuracy to stop along the gradient, it will be necessary to set a scheme of targets to clearly demonstrate the reliability of the sensor measurement, and stopping performance (e.g, the margin of error).  Furthermore, the robot should be evidenced to be able to move along a consistent straight line, or otherwise the performance quanitified.  To mitigate confouding factors - for example, poor motor control - it will be necessary to first present preliminary results that clearly evidence the quality of motion of the robot and it's ability to stop accurately and precisely.  If this is not done, it will not be clear if the performance of stopping at a target is related to the line sensors or motor control.\n",
        "\n",
        "# Method\n",
        "\n",
        "This experiment has a relatively simple setup where a surface gradient can be specified on a computer and printed out.  However, it will be important to ensure that enough repeat-trials are conducted to draw robust conclusions. Based on some preliminary analysis of how the line sensors perform with either technique, it may be possible to reduce the amount of experimentation required by first predicting how many discrete intervals of reflectivity can be detected, and testing this hypothesis first.  This experiment will require an approach of comparison between a baseline and improvement.  The implementation and method should ensure that the reader is confident that your baseline was \"the best it could be\" without your improvements (filtering, etc).\n",
        "\n",
        "\n"
      ],
      "metadata": {
        "id": "Fq0sBiKtHsZh"
      }
    }
  ]
}