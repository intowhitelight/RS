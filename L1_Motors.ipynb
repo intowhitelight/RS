{
  "nbformat": 4,
  "nbformat_minor": 0,
  "metadata": {
    "kernelspec": {
      "display_name": "Python 3",
      "language": "python",
      "name": "python3"
    },
    "language_info": {
      "codemirror_mode": {
        "name": "ipython",
        "version": 3
      },
      "file_extension": ".py",
      "mimetype": "text/x-python",
      "name": "python",
      "nbconvert_exporter": "python",
      "pygments_lexer": "ipython3",
      "version": "3.8.5"
    },
    "colab": {
      "provenance": [],
      "toc_visible": true,
      "include_colab_link": true
    }
  },
  "cells": [
    {
      "cell_type": "markdown",
      "metadata": {
        "id": "view-in-github",
        "colab_type": "text"
      },
      "source": [
        "<a href=\"https://colab.research.google.com/github/paulodowd/EMATM0054_53/blob/main/L1_Motors.ipynb\" target=\"_parent\"><img src=\"https://colab.research.google.com/assets/colab-badge.svg\" alt=\"Open In Colab\"/></a>"
      ]
    },
    {
      "cell_type": "markdown",
      "metadata": {
        "button": false,
        "run_control": {
          "read_only": false
        },
        "id": "33JyZH-hvafX"
      },
      "source": [
        "# Labsheet 1: Motors\n",
        "\n",
        "\n",
        "In this labsheet we are going to:\n",
        "\n",
        "- Get the 3Pi+ robot moving by activating the DC motors.\n",
        "- Utilise `pinMode()`, `analogWrite()` and `digitalWrite()`.\n",
        "- Write code that we can be confident is `safe`, and won't produce `undefined` behaviours.  This will save you hours in debugging time.\n",
        "\n",
        "To test any code you write for motors, you will need to enable the battery power on your 3Pi+.\n",
        "- There is a small button labelled `Power` on the top of the 3Pi+.  Press once to turn on, and press once again to turn off.  \n",
        "- When battery power is `on`, a blue LED light will shine next to the button.\n",
        "- When you are not using the motors, you can increase the longevity of your batteries by turning battery power off.  \n",
        "- Except motors, all other devices on the 3Pi+ can be used on USB power alone.  \n",
        "- The 3Pi+ can be plugged into USB and use battery power simultaneously.\n",
        "\n",
        "<p align=\"center\">\n",
        "<img width=\"50%\" src=\"https://github.com/paulodowd/EMATM0054_53/blob/main/Images/3PI_BattPowerBtn.png?raw=true\">\n",
        "</p>\n",
        "<br><br><br><br>\n",
        "\n",
        "\n",
        "\n",
        "\n",
        "\n",
        "  \n",
        "\n",
        "\n",
        "\n",
        "\n",
        "\n",
        "\n"
      ]
    },
    {
      "cell_type": "markdown",
      "source": [
        "<img src=\"https://raw.githubusercontent.com/paulodowd/EMATM0054_53/main/Images/stop.png\" align=\"left\"> The most common cause of damage to the 3Pi+ robot is when it falls off a table at high speed.  **This bends the wheel axle, which is permanent damage**.  Whilst you are testing code, you can use something to lift the robot off the surface, or turn it upside-down - that way it won't run away, fall, and break."
      ],
      "metadata": {
        "id": "TofoNZodf7Bc"
      }
    },
    {
      "cell_type": "markdown",
      "source": [
        "<img src=\"https://raw.githubusercontent.com/paulodowd/EMATM0054_53/main/Images/stop.png\" align=\"left\"> Allowing the motor to **run at high speed for a long time** will cause the motor to **overheat** and become **permanently damaged**.  You will **smell this happening** - don't let it happen!  If you have a problem with your code you **should turn the robot off whilst you work on solving it**."
      ],
      "metadata": {
        "id": "noDNbtINf7JL"
      }
    },
    {
      "cell_type": "markdown",
      "source": [
        "<img src=\"https://raw.githubusercontent.com/paulodowd/EMATM0054_53/main/Images/stop.png\" align=\"left\"> Forcing a wheel to stop when it is being powered can cause irreversible damage to your 3Pi+.  **This will destroy the gears** inside the reduction gearbox.  Only stop the motors by **turning off the robot**, or by sending the `analogWrite()` command with a value of `0`."
      ],
      "metadata": {
        "id": "EGmLAa1jf64G"
      }
    },
    {
      "cell_type": "markdown",
      "source": [
        "<img src=\"https://raw.githubusercontent.com/paulodowd/EMATM0054_53/main/Images/tick.png\" align=\"left\">\n",
        "The maximum possible power (a value of 255) for the motors is not useful.  You want to program your robot to be under reliable control - so consider limiting the value you send to `analogWrite()` in your code."
      ],
      "metadata": {
        "id": "dokEUajjf6m8"
      }
    },
    {
      "cell_type": "markdown",
      "source": [
        "<img src=\"https://raw.githubusercontent.com/paulodowd/EMATM0054_53/main/Images/tick.png\" align=\"left\"> Your solution later  may accidentally send \"bad\" values to the motors - by following the exercises in this labsheet, we will have written code to **catch these exceptions** and produce **safe, predictable behaviour**.  It is worth bearing in mind that you are assembling a solution of sub-components."
      ],
      "metadata": {
        "id": "9Et1zuHmmQSm"
      }
    },
    {
      "cell_type": "markdown",
      "metadata": {
        "id": "u4I2RJ4Jvnm6"
      },
      "source": [
        "<hr><br><br><br><br>"
      ]
    },
    {
      "cell_type": "markdown",
      "metadata": {
        "button": false,
        "run_control": {
          "read_only": false
        },
        "id": "Wdq7cB-mvafa"
      },
      "source": [
        "# Theory: 3Pi+ Motor Drivers\n",
        "\n",
        "<img src=\"https://raw.githubusercontent.com/paulodowd/EMATM0054_53/main/Images/theory.png\" align=\"left\"> The 3Pi+ robot is controlled by an ATMEL ATMEGA32u4 Microcontroller (<a href=\"https://www.microchip.com/en-us/product/ATmega32U4\">produce page</a>, <a href=\"https://ww1.microchip.com/downloads/en/DeviceDoc/Atmel-7766-8-bit-AVR-ATmega16U4-32U4_Datasheet.pdf\">datasheet</a>).  We can think of a microcontroller as a computer which interacts with the external world (any connected peripherals) through `general purpose input/output` pins (GPIO pins) - the small metal tabs or legs around the actual microchip.  We can write a program (software) to tell the microcontroller to activate a pin `HIGH`, which provides a small amount of current (typically, 25 milliamps).  However, the voltage and current provided by the microcontroller is not enough to drive (activate) the motors of the 3Pi+.  Therefore, the microcontroller of the 3Pi+ will send a signal to another chip - a motor driver - which will in turn activate the motors with more power.\n",
        "\n",
        "We can look at the schematic of the 3Pi+ (<a href=\"https://www.pololu.com/file/0J1790/3pi-plus-32u4-control-board-schematic.pdf\">aviailable here</a>) to investigate how the motors can be driven.\n",
        "\n",
        "<p align=\"center\">\n",
        "<img src=\"https://github.com/paulodowd/EMATM0054_53/blob/main/Images/3PI_schematic_drv8838.png?raw=true\">\n",
        "</p>\n",
        "\n",
        "In the above circuit schematic extract (found on page 2 of the linked document above), we can see the circuit symbol for the left and right motors (the blue circle on top of a blue box).  These are then attached to the integrated circuit (a microchip, the yellow box) labelled `DRV8838`, one for the left motor and one for the right motor.  \n",
        "\n",
        "Each motor is electronically driven by a DRV8838, a low-voltage H-Bridge driver (a datasheet is available <a href=\"https://www.ti.com/lit/ds/symlink/drv8838.pdf?ts=1626947113238&ref_url=https%253A%252F%252Fwww.ti.com%252Fproduct%252FDRV8838\">here</a>).  A <a href=\"https://en.wikipedia.org/wiki/H-bridge\">H-Bridge</a> is a type of circuit which allows DC motors to be driven either forwards or backwards without needing to physically change the polarity of the connections to the DC motor.  \n",
        "\n",
        "The fine black lines extending out of the yellow block indicate necessary connections to the DRV8838:  \n",
        "- The DRV8838 is able to source (provide) more voltage and current through the connection labelled `VM` (\"voltage-motors\"), which is an alternative power supply.  This provides an independent power supply for the motors.\n",
        "- The connection labelled `5V` provides a stable voltage supply for the digital logic of the DRV8838 circuit.  \n",
        "- The DRV8838 has to be connected to ground (0v) to complete the electronic circuit, marked by the symbol which looks like a triangle of horizontal lines.  \n",
        "- The labels `OUT1` and `OUT2` are attached to the DC motor.  By making one output `HIGH` and other `LOW`, the motor is driven forwards or backwards.\n",
        "- We can observe that both the DRV8838 have connections labelled `PH` and `EN`:\n",
        "  - Note: `PH` and `EN` appear to have an arrow indicated into them, but the lines are not terminated against a symbol.  This means they connect to another part of the circuit, drawn elsewhere.  \n",
        "  - The red labels `D16`, `D10`, `D15`, `D9` can be found elsewhere in the document, which is their corresponding connection.  These are connections to our 32u4 microcontroller.\n",
        "  - We can confirm these connections against the <a href=\"https://www.pololu.com/docs/0J83/5.9\">pin assignment section of the documentation</a> (look for functions relating to motor).\n",
        "\n",
        "The 3PI+ DRV8838 therefore have just two input signals each for their operation:\n",
        "\n",
        "- The **`PH`** pin of the DRV8838 sets the **`direction`** of rotation of the motor of the 3Pi+.  In the pin assigment documentation, this is referred to as \"left/right motor direction\".\n",
        "\n",
        "- The **`EN`** pin of the DRV8838 `enables` the motors.  When `EN` is set `LOW`, the motors are `not active`.  When `EN` is set `HIGH`, the motors are driven from the power supply `VM`.  In order to achieve different rotation speeds, `EN` is switched on-and-off very quickly.  In the pin assigment documentation, this is referred to as \"left/right motor PWM\".\n",
        "\n",
        "`PWM` stands for Pulse Width Modulation.  Pulse Width Modulation means turning a digital signal either `HIGH` or `LOW` (`ON` or `OFF`) within a fixed period of time, and adjusting the timing interval of the signal.  This is often referred to as a `mark-to-space ratio`, because of the way the output signal appears, which forms the `duty-cycle` in %:\n",
        "\n",
        "<p align=\"center\">\n",
        "<img width=\"50%\" src=\"https://github.com/paulodowd/EMATM0054_53/blob/main/Images/PWM.png?raw=true\">\n",
        "</p>\n",
        "\n",
        "In the above, we can see that at a 50% duty cycle, the signal has clear and equal on-periods and off-periods, or marks and spaces respectively.  When this PWM signal is measured by the microcontroller, it is effectively averaged over time.  Therefore, a PWM with a 50% duty cycle will be measured as 2.5volts. When we instruct a microcontroller to generate PWM, we are crudely synthesising an analog signal (continuous range) from a digital signal (binary range), which is often referred to as `DAC` - digital-to-analog conversion.  The DRV8838 receives the PWM output from the 32u4 microcontroller and will effect different motor power levels.  \n",
        "\n",
        "The DRV8838 makes operating the motors very easy, we simply set a **`PWM`** level (power), and a **`direction`**.  The 3Pi+ is a **`differential drive`** robot from Pololu. This means it has two wheels as **`effectors`**, placed symmetrically either side of the longitude of the robot, to manoeuvre the robot.  Each wheel is driven by a motor each, the **`actuators`**.  \n",
        "- To make the 3Pi+ move forwards or backwards the motors can be activated with the same **`PWM`** levels, set in the same **`direction`**.  \n",
        "- The 3Pi+ can be made to move on an **`arc`** by activating the motors at different **`PWM`** levels, in the same **`direction`**.\n",
        "- The 3Pi+ can be made to rotate on the spot by activating the motors at the same **`PWM`** levels, in different **`directions`**.\n",
        "\n",
        "Conveniently, most microcontrollers contain dedicated hardware to generate PWM signals - meaning it is not necessary to write our own software routine to do so.  Within the Arduino programming environment, a function called **`analogWrite()`** performs this operation (<a href=\"https://www.arduino.cc/reference/en/language/functions/analog-io/analogwrite/\">Arduino Reference</a>).  Writing a value of 255 creates a constant high signal (5v), whilst writing a 0 creates a constant low signal (0v).  Values between 0 and 255 generate square waveforms with a ratio of high (5v) and low (0v).  \n",
        "\n",
        "It is important to note that when we set a `PWM` level as input to the DRV8838, we are setting a desired output power level but **not** speed.  **Speed** (or velocity) is a measurement, and currently we do not know the real rotation of the wheel during a period of time.  Imagine, we could set an output PWM duty cycle of 100%, but the DC motor could be broken - a measured speed of 0.\n"
      ]
    },
    {
      "cell_type": "markdown",
      "source": [
        "<hr><br><br><br><br>"
      ],
      "metadata": {
        "id": "_HwU9wqqkad1"
      }
    },
    {
      "cell_type": "markdown",
      "source": [
        "# Exercise 1: Getting the motors to work\n",
        "\n",
        "For these exercises, review the **code stub** available on Github ( ).  In particular, you will need to work with `Motors.h`.  \n",
        "\n"
      ],
      "metadata": {
        "id": "wkrCw-RNPNUU"
      }
    },
    {
      "cell_type": "markdown",
      "source": [
        "<img src=\"https://raw.githubusercontent.com/paulodowd/EMATM0054_53/main/Images/hypothesis.png\" align=\"left\">**Hypothesise:** In the above circuit extract, we can see a tiny arrow next to the symbol for the motors.  This arrow indicates the normal direction of the motor.  These arrows are pointing in different directions.  Why may the circuit and hardware have been specified in this way? <br><br><br>"
      ],
      "metadata": {
        "id": "rR8tt0vkPPY0"
      }
    },
    {
      "cell_type": "markdown",
      "source": [
        "<img src=\"https://raw.githubusercontent.com/paulodowd/EMATM0054_53/main/Images/exercise.png\" align=\"left\">  **Exercise:** You should review the `Motors.h` file specifically.  You will need to complete all areas marked with `????`.  You will need to `uncomment` code by removing the `//` (comment syntax) text.  The first one, `#define L_PWM 10` is correct, the others need fixing."
      ],
      "metadata": {
        "id": "ILY54fC9PStN"
      }
    },
    {
      "cell_type": "markdown",
      "source": [
        "1. Complete the pin definitions `L_PWM`, `L_DIR`, `R_PWM` and `R_DIR`.  You will need to refer to the **documentation** available online <a href=\"https://www.pololu.com/docs/0J83/5.9\">here</a> (https://www.pololu.com/docs/0J83/5.9).\n",
        "  - Use the column labelled **Arduino pin names**, and **use the first value in the cell** (e.g., `10` for `Left motor PWM`)."
      ],
      "metadata": {
        "id": "wsc3ShvYYGsq"
      }
    },
    {
      "cell_type": "markdown",
      "source": [
        "2. Complete the function inside the `Motors_c` class definition called `intialise()`.  There are comments in the code to help you.\n",
        "  - Using the pin definitions you just completed, decide whether the pins should be activated as `INPUT` or `OUTPUT` - what will they do?\n",
        "  - Using the pin definitions you just completed, decide what initial value they should have.  When you turn on your robot, what do you want to happen first of all?"
      ],
      "metadata": {
        "id": "Hl31L7oHZ3fg"
      }
    },
    {
      "cell_type": "markdown",
      "source": [
        "3. Complete the function inside the `Motors_c` class definition called `setPWM()`.  There are comments in the code to help you."
      ],
      "metadata": {
        "id": "mYllz4-PZ4gY"
      }
    },
    {
      "cell_type": "markdown",
      "source": [
        "<img src=\"https://raw.githubusercontent.com/paulodowd/EMATM0054_53/main/Images/validate.png\" align=\"left\"> **Validate:** Check that you have assigned the left and right pins appropriately.  When you validate your own work, it is best to test one thing at a time.  Work slowly and methodically.  For example, use `motors.setPWM( 0, 25 );` to set the left motor to power 0 (off), and the right motor to power 25.  This way, we focus on just 1 motor, and we use a value that should be \"safe\" (not extreme, not negative, etc.)\n",
        "\n"
      ],
      "metadata": {
        "id": "FAwyIbNCPRtM"
      }
    },
    {
      "cell_type": "markdown",
      "source": [
        "<img src=\"https://raw.githubusercontent.com/paulodowd/EMATM0054_53/main/Images/stop.png\" width=\"30px\" align=\"left\">\n",
        " Lift your robot off the surface for these exercises, or it will drive off the table and become damaged.  **You could turn it upside-down.**"
      ],
      "metadata": {
        "id": "Evq3J9YukitV"
      }
    },
    {
      "cell_type": "markdown",
      "source": [
        "- Does activating just the left motor in code activate the left motor in reality?  What about the right motor, is that correct?\n",
        "- When you send a **positive** value to the motor, does it rotate **forwards** or **backwards**?  Which makes more sense to you?\n",
        "- It is recommended you then create and use `#define FWD LOW` (or HIGH?), and `#define REV LOW` (or HIGH?) definitions in your code.\n",
        "  - You can then use `FWD` and `REV` instead of `HIGH` and `LOW`, where `#define` is acting like a find-and-replace operation.\n",
        "  - This helps to make your more readable when you ask others for help.\n",
        "  - This should reduce the probability of bugs because you do not have `HIGH` and `LOW` defined in many places in your code - they are defined just at the top.\n",
        "- Check what happens if you now send a **negative** value, for example `motors.setPWM( 0, -25 );`\n",
        " - Does the correct wheel rotate in the opposite direction?\n"
      ],
      "metadata": {
        "id": "XJlgyLEEcDwq"
      }
    },
    {
      "cell_type": "markdown",
      "source": [
        "<img src=\"https://raw.githubusercontent.com/paulodowd/EMATM0054_53/main/Images/exercise.png\" align=\"left\">  **Exercise:** Within `loop()`, write some code that will now use variables rather than **hard-coded values** to set the values for the motors PWM - review the below code extract for a suggestion.  \n",
        "\n"
      ],
      "metadata": {
        "id": "t6t9BpmMduI7"
      }
    },
    {
      "cell_type": "markdown",
      "source": [
        "<img src=\"https://raw.githubusercontent.com/paulodowd/EMATM0054_53/main/Images/stop.png\" width=\"30px\" align=\"left\">\n",
        " Lift your robot off the surface for these exercises, or it will drive off the table and become damaged.  **You could turn it upside-down.**"
      ],
      "metadata": {
        "id": "CV3KbEo-fZ8j"
      }
    },
    {
      "cell_type": "markdown",
      "source": [
        "4. Start by having the variables \"left\" and \"right\" simply increase in value.  \n",
        "  - Set the initial value of the variables `left` and `right` within `setup()` as `0`.\n",
        "  - What do you expect the robot to do (what do you **hypothesise** to **observe**)?\n",
        "  - What do you expect your `Motor_c` `setPWM()` function to do?\n",
        "5. Next, program the variables \"left\" and \"right\" to simply decrease in value.\n",
        "  - Set a positive starting value, for example `40` - you can set this within `setup()`.\n",
        "  - The value should decrease past 0 into negative numbers - what do you **hypothesise** to **observe** from your robot as this happens?"
      ],
      "metadata": {
        "id": "szcli6Ije9Pa"
      }
    },
    {
      "cell_type": "markdown",
      "source": [
        "<img src=\"https://raw.githubusercontent.com/paulodowd/EMATM0054_53/main/Images/validate.png\" align=\"left\"> **Validate:** Check that your function can handle negative PWM values.  We know that `analogWrite()` can only work with positive numbers.  Therefore, if we send a negative PWM (meaning, to go backwards), we need to first **change the direction pin**, and then pass `analogWrite()` the **absolute** PWM value (positive only)."
      ],
      "metadata": {
        "id": "kOBgDtmVNFCz"
      }
    },
    {
      "cell_type": "markdown",
      "source": [
        "```c\n",
        "// to \"remember\" the last power value outside\n",
        "// of loop()\n",
        "float left;\n",
        "float right;\n",
        "\n",
        "void setup() {\n",
        "  // ...\n",
        "}\n",
        "\n",
        "void loop() {\n",
        "\n",
        "  // Update the left and right power to\n",
        "  // observe how the motors behave.  This\n",
        "  // operation will happen every time\n",
        "  // loop() gets run.\n",
        "  left =  ????;\n",
        "  right = ????;\n",
        "\n",
        "  // Send power to motors.\n",
        "  motors.setPWM( left, right );\n",
        "\n",
        "  // Do nothing for half a second.\n",
        "  delay(500);\n",
        "}\n",
        "```"
      ],
      "metadata": {
        "id": "4X06fk0Be7fy"
      }
    },
    {
      "cell_type": "markdown",
      "source": [
        "<img src=\"https://raw.githubusercontent.com/paulodowd/EMATM0054_53/main/Images/validate.png\" align=\"left\"> **Validate:** After the above exercises, you should now decide what are **sensible** PWM values for your motors.  You should have **observed** very high motor speed, which will not be necessary or useful in reality.  "
      ],
      "metadata": {
        "id": "0hzTrYR7hl4b"
      }
    },
    {
      "cell_type": "markdown",
      "source": [
        "<img src=\"https://raw.githubusercontent.com/paulodowd/EMATM0054_53/main/Images/stop.png\" width=\"30px\" align=\"left\">\n",
        " Lift your robot off the surface for these exercises, or it will drive off the table and become damaged.  **You could turn it upside-down.**"
      ],
      "metadata": {
        "id": "DkIbkcltkx39"
      }
    },
    {
      "cell_type": "markdown",
      "source": [
        "- Update your `Motors_c` class function `setPWM()` to limit the PWM value to a safe value.  It is recommended you use the `#define MAX_PWM` statement at the top of the class.\n",
        "  - This will mean you can change this, or disable it, by editing just one line of your code.\n",
        "  - This should reduce future bugs, where a **hard-coded** value could be forgotten about but changing the performance of your robot.\n",
        "- Check that your new PWM constrait works by running some of the code from the previous exercises.\n",
        "  - What happens now when a value like `200` is sent to the motors?"
      ],
      "metadata": {
        "id": "-u14qyHyhz0s"
      }
    },
    {
      "cell_type": "markdown",
      "source": [
        "<img src=\"https://raw.githubusercontent.com/paulodowd/EMATM0054_53/main/Images/exercise.png\" align=\"left\">  **Exercise:** Now that you are confident your robot will behave in the way your predict; explore combinations of left and right motor power values, and how these produce different types of robot motion.  Please be aware that without **feedback control** (Advanced Exercises, later), it is difficult and unlikely that your robot can perform these types of motion reliably.\n",
        "\n"
      ],
      "metadata": {
        "id": "hp7ZMivyPZZc"
      }
    },
    {
      "cell_type": "markdown",
      "source": [
        "6. Drive forwards in a straight line.\n",
        "7. Drive backwards in a straight line.\n",
        "8. Turn on the spot to the left.\n",
        "9. Turn on the spot to the right.\n",
        "10. Drive on an arc, or move along a circle.\n",
        "  "
      ],
      "metadata": {
        "id": "qOhtDsWSjSUs"
      }
    },
    {
      "cell_type": "markdown",
      "source": [
        "<img src=\"https://raw.githubusercontent.com/paulodowd/EMATM0054_53/main/Images/observation.png\" align=\"left\"> **Observations:** Take some time to reflect on what you have observed.  You may have noticed some of the following statements. For each of the below, consider how you might be able to **measure** these characteristics of your robot.  "
      ],
      "metadata": {
        "id": "c04588t6moMG"
      }
    },
    {
      "cell_type": "markdown",
      "source": [
        "- Even with the same values sent to the motors (e.g. `motors.setPWM( 30, 30);`) my robot doesn't move in a straight line.\n",
        "  - From this, we learn that the motors have either different performance characteristics (like power efficiency), or they have different operational factors (such as friction).\n",
        "  - What would be a simple experiment to **quantify** how much the robot deviates from a straight line of travel?\n",
        "    - How could we design a scenario to measure this externally to the robot?\n",
        "    - What sensors does the robot have that could help the robot to autonomously sense this problem?\n",
        "- Compared to my peers, my robot requires different PWM values to produce the same type of motion (e.g., to drive in a straight line).\n",
        "  - From this, we learn that the differences between motors occurs between different robots - meaning that robots are different from each other too.\n",
        "  - Consider the problem of movement speed: If robots will be different from each other, what sensor information could we use, and how could we process this information, to write a program that performed identically on different robots?\n",
        "- If my robot is going up an incline (e.g., like a hill), the robot slows down.  If my robot is going down an incline, the robot speeds up.\n",
        "  - From these, we learn that **a PWM value is not a description of speed** (velocity).  We can set a PWM value, but the output speed could still change.\n",
        "  - From these, we learn that external factors can influence the performance or behaviour of a robot."
      ],
      "metadata": {
        "id": "XJAj_f91n-9A"
      }
    },
    {
      "cell_type": "markdown",
      "source": [
        "<hr><br><br><br><br>"
      ],
      "metadata": {
        "id": "caknUI7RqpZP"
      }
    },
    {
      "cell_type": "markdown",
      "source": [
        "# Exercise 2: Leaving the Start Box\n",
        "\n",
        "<img width=\"100px\" src=\"https://raw.githubusercontent.com/paulodowd/EMATM0054_53/main/Images/calibration_disk.png\" align=\"left\"> For Assessment 1, your 3Pi+ robot must start in the \"start box\" area, which you can find with the marker illustrated to the left. Your robot is required to be placed start facing forwards, which is indicated with grey text.  Your robot must then leave this start area to begin the task.  Therefore, a good first problem to try and solve is to have the robot move forward for a given duration, then stop. In Labsheet 0, you wrote a **non-blocking** function to activate the buzzer for a fixed duration - that would be a good piece of code to adapt!\n"
      ],
      "metadata": {
        "id": "PipfLqwIqL_n"
      }
    },
    {
      "cell_type": "markdown",
      "source": [
        "<img src=\"https://raw.githubusercontent.com/paulodowd/EMATM0054_53/main/Images/exercise.png\" align=\"left\">  **Exercise:** Update your program so that your robot can be placed in the starting box of the coursework map, leave the starting box, and then stop when it has moved outside the area of the box."
      ],
      "metadata": {
        "id": "f7w57soECmHX"
      }
    },
    {
      "cell_type": "markdown",
      "source": [
        "1. In Labsheet 0, we wrote two functions for a **non-blocking** beep routine: `setBeep()` and `checkBeep()`.  This allowed us to produce a beep of a specified duration without using any `delay()` functions.   You are encouraged to adapt your `setBeep()` and `checkBeep()` functions.  Keeping a copy, rename these to something like `setForwards()`, `checkForwards()`.  \n",
        "  - Write your `setForwards()` function so that you can specify a duration as an argument in milliseconds().  When `setForwards()` is called, it should activate the motors to cause your robot to move forwards.\n",
        "  - Call `checkForwards()` within your `loop()`, which will simply stop the robot once the requested duration has elapsed.  Otherwise, it will do nothing.  Doing nothing will mean that if `setForwards()` activated the motors to turn, they will continue to turn the robot.\n",
        "  - It would be useful to know if the robot is currently operating a turn routine.  Therefore, update your `checkForwards()` routine to have the return type `bool`.\n",
        "    - When the code within `checkForwards()` evaluates as within the requested duration (still travelling), return `true` to indicate that a turn operation is in progress.\n",
        "    - When `checkForwards()` evaluates as the duration having passed, stop the motors, and return `false` to indicate the robot is no longer turning.\n",
        "\n",
        "2.  Currently, it is likely that your `checkForwards()` function will repeatedly set the motor PWM to 0 after the requested duration.  Make use of a **global variable** to act as a flag, so that once the motors are deactivated, future calls to `checkForwards()` will not deactivated the motors repeatedly.\n",
        "\n"
      ],
      "metadata": {
        "id": "kZGPOJBWCsn1"
      }
    },
    {
      "cell_type": "markdown",
      "source": [
        "<img src=\"https://raw.githubusercontent.com/paulodowd/EMATM0054_53/main/Images/info.png\" align=\"left\"> **Information:** Try to avoid writing code in your `loop()` that looks like the following code extract.  This is because, if you write your robot controller as a long script like this, it will quickly become extremely complicated to debug.  It will also be extremely difficult to transfer any of your code or solutions into future work - such as Assessment 2.  \n",
        "\n",
        "It is also important to note that using `delay()` like this will make it very difficult to estimate the robot position, which will be required to get the higher achievement marks on Assessment 1.  When you use `delay()`, your robot is not able to do any other computation, and so your robot will not be able to update the estimate of it's position.\n",
        "\n",
        "Instead, look to use `millis()` to write **non-blocking** code, which was covered in exercises 5 & 6 of Labsheet 0.\n",
        "\n",
        "```c\n",
        "void loop() {\n",
        "\n",
        "  beep(); // start up beep and delay\n",
        "  delay(2000);\n",
        "\n",
        "  motors.setPWM( 30, 30 ); // forwards\n",
        "\n",
        "  delay(1500); // wait to leave box\n",
        "\n",
        "  motors.setPWM( 0, 0 ); // stop the robot\n",
        "\n",
        "  // stop the program\n",
        "  while( true ) {\n",
        "    delay(1000);\n",
        "  }\n",
        "\n",
        "}\n",
        "\n",
        "```"
      ],
      "metadata": {
        "id": "DllF98q6EB6p"
      }
    },
    {
      "cell_type": "markdown",
      "source": [
        "# Exercise 3: A Turn Routine\n",
        "\n",
        "<img src=\"https://raw.githubusercontent.com/paulodowd/EMATM0054_53/main/Images/exercise.png\" align=\"left\">  **Exercise:** Using the a similar structure to your function to move forwards for a specified duration, write a pair of functions that can operate a **non-blocking** turn.\n"
      ],
      "metadata": {
        "id": "lUgrXqBMI0GM"
      }
    },
    {
      "cell_type": "markdown",
      "source": [
        "1. There are a number of different approaches that can be taken.   Consider the following function prototypes.  Implement at least one, and consider exploring the others:\n",
        "\n",
        "```c\n",
        "\n",
        "// The rate of turn is fixed within this function\n",
        "void setTurn( unsigned long duration_ms )\n",
        "\n",
        "// Setting the left and right pwm directly\n",
        "void setTurn( float left_pwm, float right_pwm, unsigned long duration_ms)\n",
        "\n",
        "// Setting a forward bias and a turn bias, with duration\n",
        "void setTurn( float fwd_bias_pwm, float turn_pwm, unsigned long duration_ms )\n",
        "\n",
        "```"
      ],
      "metadata": {
        "id": "gKVljy_fJC7P"
      }
    },
    {
      "cell_type": "markdown",
      "source": [
        "<img src=\"https://raw.githubusercontent.com/paulodowd/EMATM0054_53/main/Images/info.png\" align=\"left\"> **Information:** In labsheet 4, you will be encouraged to adapt these functions to stop using a duration in milliseconds as the stopping criteria, and to instead use an angle in radians, or a distance to a target `x` and `y` coordinate.  Using time and PWM is not very reliable."
      ],
      "metadata": {
        "id": "ptDe6dcVMaFj"
      }
    },
    {
      "cell_type": "markdown",
      "metadata": {
        "id": "J4FHUfZlwxRO"
      },
      "source": [
        "<hr><br><br><br><br>"
      ]
    },
    {
      "cell_type": "markdown",
      "source": [
        "# Advanced Exercises\n",
        "\n",
        "<img src=\"https://raw.githubusercontent.com/paulodowd/EMATM0054_53/main/Images/tick.png\" align=\"left\">  This is a good place to progress into the next Labsheet.  The next labsheet will help you to read the line sensors to detect the thick black line that marks the boundary of the Assessment 1 map.  It is recommended you work in small steps, and so produce a **minimal solution** first.  You can come back to complete the advanced exercises later to improve your Assessment 1 solution further."
      ],
      "metadata": {
        "id": "doUfaDa3aMwr"
      }
    },
    {
      "cell_type": "markdown",
      "source": [
        "<hr><br><br><br><br>"
      ],
      "metadata": {
        "id": "d8J6LSBnDhC6"
      }
    },
    {
      "cell_type": "markdown",
      "source": [
        "## Exercise 3: Measuring Wheel Speed\n",
        "\n",
        "<img src=\"https://raw.githubusercontent.com/paulodowd/EMATM0054_53/main/Images/theory.png\" align=\"left\"> When the 3Pi+ robot is operating it's motors with `analogWrite()`, there is no guarantee that the motor achieves a stable or consistent wheel speed.  We call this **open-loop control**.  This means that there is some control - we can turn the motor on, off, higher and lower - but we do not know what the actual outcome is (the outcome is open).  Therefore, for the same PWM given to the motor, the actual wheel speed may vary."
      ],
      "metadata": {
        "id": "i66e1nzeVj4j"
      }
    },
    {
      "cell_type": "markdown",
      "source": [
        "\n",
        "\n",
        "It is possible for the 3Pi+ to measure and calculate it's own wheel speed. To do this, we will use **rotary encoders**.  Once the robot can measure it's own wheel speed, we can then write an algorithm to change the PWM in response.  This way, the robot can be programmed to autonomously regulate wheel speed - called **closed-loop control**, or **feedback control**.  \n",
        "\n",
        "<p align=\"center\">\n",
        "<br>\n",
        "<img width=\"75%\" src=\"https://github.com/paulodowd/EMATM0054_53/blob/main/Images/3PI_EncoderAssembly.png?raw=true\">\n",
        "<br>\n",
        "</p>\n",
        "\n",
        "The above image shows the motor assembly for the 3Pi+ robot.  The encoder is placed at the rear of the motor.  As the motor drives the wheel, or if the wheel is turned by hand, a shaft at the back of the motor rotates a magnet (the small black disk).  This magnet rotates over two small <a href=\"https://en.wikipedia.org/wiki/Hall_effect_sensor\">hall effect sensors</a>, creating a pulsing signal to be read by the Arduino.  The Arduino can count these pulses over time.\n",
        "\n",
        "We can then measure the wheel speed by using the simple relationship:\n",
        "\n",
        "<p align=\"center\">\n",
        "$v = d_{t} / \\Delta t$\n",
        "</p>\n",
        "\n",
        "where $d$ is our measured distance in either the change of encoder counts or _mm_ at time step $t$, and $\\Delta t$ is the change in time between time step $t$ and $t-1$.  \n"
      ],
      "metadata": {
        "id": "u4S8VEv--clo"
      }
    },
    {
      "cell_type": "code",
      "source": [
        "# @title\n",
        "import pandas as pd\n",
        "import matplotlib.pyplot as plt\n",
        "import numpy as np\n",
        "import seaborn as sns\n",
        "\n",
        "# Import CSV stored on github.\n",
        "# This could be your local computer directory\n",
        "pwm_speeds = pd.read_csv('https://raw.githubusercontent.com/paulodowd/EMATM0054_53/main/ExampleData/pwm_wheel_speeds.csv', sep=',')\n",
        "#pwm_speeds['mm_per_ms'] = pwm_speeds['mm_per_ms'] /\n",
        "#print( pwm_speeds )\n",
        "\n",
        "# Let's look at a smaller range of the total PWM\n",
        "surfaces = pwm_speeds[ ( (pwm_speeds['pwm'] >= 0) & ( pwm_speeds['pwm'] <= 180) ) & (pwm_speeds['motor'] == 'left')]\n",
        "plt.figure(figsize=(10, 6))\n",
        "bplot = sns.boxplot( data=surfaces, x=\"pwm\", y=\"mm_per_ms\", hue=\"surface\")\n",
        "bplot.set_title(\"PWM vs Speed (mm/ms) for Left Motor on Different Surfaces\")\n",
        "\n",
        "#rel_plot = sns.relplot( data=pwm_speeds, x=\"pwm\", y=\"mm_per_ms\", kind=\"line\", hue=\"surface\", height=4, aspect=1.7, errorbar=('ci', 95))\n",
        "#rel_plot.set_axis_labels(\"PWM via analogWrite()\", \"Wheel Speed (mm/ms)\")"
      ],
      "metadata": {
        "colab": {
          "base_uri": "https://localhost:8080/",
          "height": 581
        },
        "cellView": "form",
        "id": "REUXnCF_BDZr",
        "outputId": "bb5b13a5-4bc1-40be-8a72-5fb0fa68d3be"
      },
      "execution_count": null,
      "outputs": [
        {
          "output_type": "execute_result",
          "data": {
            "text/plain": [
              "Text(0.5, 1.0, 'PWM vs Speed (mm/ms) for Left Motor on Different Surfaces')"
            ]
          },
          "metadata": {},
          "execution_count": 16
        },
        {
          "output_type": "display_data",
          "data": {
            "text/plain": [
              "<Figure size 1000x600 with 1 Axes>"
            ],
            "image/png": "[encoded data removed]"
          },
          "metadata": {}
        }
      ]
    },
    {
      "cell_type": "code",
      "source": [
        "# @title\n",
        "import pandas as pd\n",
        "import matplotlib.pyplot as plt\n",
        "import numpy as np\n",
        "import seaborn as sns\n",
        "\n",
        "# Import CSV stored on github.\n",
        "# This could be your local computer directory\n",
        "pwm_speeds = pd.read_csv('https://raw.githubusercontent.com/paulodowd/EMATM0054_53/main/ExampleData/pwm_wheel_speeds.csv', sep=',')\n",
        "#print( pwm_speeds )\n",
        "\n",
        "# Let's look at a smaller range of the total PWM\n",
        "motors = pwm_speeds[ ( (pwm_speeds['pwm'] >= 0) & ( pwm_speeds['pwm'] <= 180) ) & (pwm_speeds['surface'] == 'table')]\n",
        "plt.figure(figsize=(10, 6))\n",
        "bplot = sns.boxplot( data=motors, x=\"pwm\", y=\"mm_per_ms\", hue=\"motor\")\n",
        "bplot.set_title(\"PWM vs Speed (mm/ms) Comparing Left & Right Motor on a Table Surface\")"
      ],
      "metadata": {
        "colab": {
          "base_uri": "https://localhost:8080/",
          "height": 581
        },
        "cellView": "form",
        "id": "9t_Vfm0OdBHG",
        "outputId": "cd0b0545-c613-4696-c5cc-795ce28fa9e5"
      },
      "execution_count": null,
      "outputs": [
        {
          "output_type": "execute_result",
          "data": {
            "text/plain": [
              "Text(0.5, 1.0, 'PWM vs Speed (mm/ms) Comparing Left & Right Motor on a Table Surface')"
            ]
          },
          "metadata": {},
          "execution_count": 19
        },
        {
          "output_type": "display_data",
          "data": {
            "text/plain": [
              "<Figure size 1000x600 with 1 Axes>"
            ],
            "image/png": "[encoded data removed]"
          },
          "metadata": {}
        }
      ]
    },
    {
      "cell_type": "markdown",
      "source": [
        "The above plots show wheel speed data collected from a 3Pi+ robot using the encoder signal.  For each value of PWM in intervals of 10, 45 samples were taken at 100hz (10ms intervals).  The robot was configured for 2 different scenarios: operating on a smooth table top, operating on a carpet.  The plot shows that the measured wheel speed varies between these scenarios, but generally has a linear relationship.  By looking at the height of each box, we see that as PWM increases, so does the variability of the speed."
      ],
      "metadata": {
        "id": "aHgUHq6iDSR5"
      }
    },
    {
      "cell_type": "markdown",
      "source": [
        "<img src=\"https://raw.githubusercontent.com/paulodowd/EMATM0054_53/main/Images/exercise.png\" align=\"left\">  **Exercise:** In this exercise, we will complete some code to make a regular measurement and estimate of wheel speed.  To do this, you will need to draw on some **global variables** which have been defined in `enconders.h`.  The `encoders.h` file has been completed for you and does not need any modification. Therefore, you only need to ensure that `encoders.h` is in your Arduino sketch folder, and that you have the line `#include \"encoders.h\"` at the top of your program.  As long as you call `setupEncoder0()` and `setupEncoder1()` in your `setup()` function, your robot is already counting the encoder pulses for you as an automatic background process.  You can then use the encoder counts by simply accessing the variables `count_e0` and `count_e1`, as shown in the code extract below."
      ],
      "metadata": {
        "id": "RM4oqzK2AKqn"
      }
    },
    {
      "cell_type": "markdown",
      "source": [
        "1. Review the below code extract and then complete the areas idenfitied `????` or with comments.  \n",
        "  - It is recommended you complete this simpler code, rather than attempting to integrate into your current code.  You can either copy the `encoders.h` file from the code stub provided to you into a new sketch, or you could work from a new copy of the code stub.\n",
        "  - The below code extract does not convert the measurement into mm per second.  This is optional.  With the below code extract, you will get speed as a measurement of \"encoder counts per ms\".  \n",
        "\n",
        "```c\n",
        "#include \"encoders.h\"\n",
        "\n",
        "unsigned long speed_est_ts; // timestamp for speed estimation\n",
        "#define SPEED_EST_MS 10     // estimate speed every 10ms\n",
        "\n",
        "// This will store the previous count of pulses from encoder 0\n",
        "// To estimate speed, we will need to know the difference in\n",
        "// encoder counts over time.\n",
        "long last_e0;\n",
        "\n",
        "// Let's store wheel speed as a global float\n",
        "float speed_e0;\n",
        "\n",
        "void setup() {\n",
        "  setupEncoder0();\n",
        "  setupEncoder1();\n",
        "\n",
        "  // This takes the initial count from encoder 0\n",
        "  // and saves it as the \"last\" (previous) count\n",
        "  last_e0 = count_e0;\n",
        "\n",
        "  // Assuming we start with motors off.\n",
        "  speed_e0 = 0.0;\n",
        "\n",
        "  // Capture the time the robot has started, so\n",
        "  // that we can then know when 20ms has elapsed.\n",
        "  speed_est_ts = millis();\n",
        "}\n",
        "\n",
        "void loop() {\n",
        "\n",
        "  // Create an if() block here that uses the above\n",
        "  // speed_est_ts and SPEED_EST_MS variables to\n",
        "  // only conduct a speed estimate every 10ms\n",
        "  unsigned long elapsed_time = ????;\n",
        "  if( ???? ) {\n",
        "\n",
        "    // Work out the difference in encoder counts\n",
        "    long count_difference = last_e0 - count_e0;\n",
        "\n",
        "    // Save the current count as the last count\n",
        "    // for the next time we do this (10ms in the\n",
        "    // future).\n",
        "    last_e0 = count_e0;\n",
        "\n",
        "    // Take into account time in your measurement.\n",
        "    // This operation may not happen at exactly\n",
        "    // 20ms.\n",
        "    // Remember to typecast into float if you are\n",
        "    // dividing.  A division on a long will lose\n",
        "    // any numbers after the decimal place.\n",
        "    // ...\n",
        "    speed_e0 = ????;\n",
        "\n",
        "    // Report the result, so that it can be viewed\n",
        "    // on the Serial Plotter.\n",
        "    Serial.println( speed_e0, 4 );\n",
        "  }\n",
        "\n",
        "}\n",
        "```"
      ],
      "metadata": {
        "id": "97iQDEcaEEKJ"
      }
    },
    {
      "cell_type": "markdown",
      "source": [
        "<img src=\"https://raw.githubusercontent.com/paulodowd/EMATM0054_53/main/Images/validate.png\" align=\"left\"> **Validate:** Validate that you are able to make a measurement of speed by looking at the value on the Serial Plotter.  To begin with, rotate the wheel slowly by hand, then try integrating your code to operate the motors.  "
      ],
      "metadata": {
        "id": "rosXq8QYPO5V"
      }
    },
    {
      "cell_type": "markdown",
      "source": [
        "<img src=\"https://raw.githubusercontent.com/paulodowd/EMATM0054_53/main/Images/stop.png\" align=\"left\"> **Caution:** Rotating the wheels very fast or hard by hand can **permanently damage the motor gearbox**.  If you are moving the wheels by hand, try to rotate the wheel with gradual, not sudden, changes of speed."
      ],
      "metadata": {
        "id": "jr11A3m5Pfxw"
      }
    },
    {
      "cell_type": "markdown",
      "source": [
        "<img src=\"https://raw.githubusercontent.com/paulodowd/EMATM0054_53/main/Images/info.png\" align=\"left\"> **Information:** The **Serial Plotter** sometimes has an automatic scale that is too large to see small values.  To get around this, you can simply multiply a variable when you provide it as an argument to Serial.print().  For example, `Serial.print( speed_e0 * 10.0, 4);` will increase the reported value by a factor of 10.  This does not change the value stored in `speed_e0`, because there is no assignment operator (`=`)."
      ],
      "metadata": {
        "id": "LHiyozCbQURf"
      }
    },
    {
      "cell_type": "markdown",
      "source": [
        "<hr><br><br><br><br>"
      ],
      "metadata": {
        "id": "_QBU2pYxGW1C"
      }
    },
    {
      "cell_type": "markdown",
      "source": [
        "## Exercise 4: Improving Speed Measurement\n",
        "\n",
        "You may notice that your measurement of speed can appear \"choppy\" or with a regular pattern a little like a square-wave. This is due to **quantisation error**.  The encoder is taking a continuous signal (rotation) and transforming this into a digital representation.  The encoders provide **358.3** counts for every 360 degrees of rotation.  That means that there is a certain degree of periodic inaccuracy in our measurement.  \n"
      ],
      "metadata": {
        "id": "1Fq3Q53KRUTJ"
      }
    },
    {
      "cell_type": "markdown",
      "source": [
        "<img src=\"https://raw.githubusercontent.com/paulodowd/EMATM0054_53/main/Images/hypothesis.png\" align=\"left\">**Hypothesise:** Quantisation error occuring through digitisation is certainly one cause of inaccuracy in our speed estimate.  However, there are probably other likely causes.  What might these be? What would be a way to measure and observe their effect?"
      ],
      "metadata": {
        "id": "PLzfgq_JWjTI"
      }
    },
    {
      "cell_type": "markdown",
      "source": [
        "\n",
        "We can \"smooth\" our speed measurement by applying a simple **low-pass** filter.  This means that slow frequency changes are permitted (pass), but high frequency changes are rejected.  In our case, a \"slow frequency change\" is our estimate of wheel speed, whilst the high-frequency change is the quantisation error.  \n",
        "\n",
        "The below equation is an <a href=\"https://en.wikipedia.org/wiki/Exponential_smoothing\">Exponential Moving Average</a>.  It is useful because we can \"average\" (our low pass filter) a signal without storing and iterating over a list of samples.  \n",
        "<p align=\"center\">\n",
        "$S_{t} = (\\alpha * x_{t}) + ( (1.0 - \\alpha) * S_{t-1} )$\n",
        "</p>\n",
        "\n",
        "where: $S_{t}$ is the result of our filter (S for \"smoothed\") at time $t$; $\\alpha$ is the **smoothing factor**, and should be a value in the range [ 0.0 : 1.0 ]; and $x_{t}$ is our measurement at time $t$.  We can therefore understand that $S_{t-1}$ means the previous result of our filter, where $t-1$ means \"in the last time step\".  \n",
        "\n",
        "We can understand this equation more informally: we can regard the $(\\alpha * x_{t})$ component to mean, \"how much of the new value do we want to preserve?\".  And then the second compoent, $( (1.0 - \\alpha) * S_{t-1}) )$ to mean \"how much of the historic value do we want to preserve?\".   Therefore, if we set $\\alpha = 0.1$, our \"historic value\" has a weighting of 0.9, which means it will influence the filter more than the new reading - which should mean a \"smoother\" signal.  If we set $\\alpha = 0.7$, then the \"historic value\" will now have significantly less influence than the most recent reading - which should mean a \"noisier\" signal."
      ],
      "metadata": {
        "id": "ACRvzm6-SNd3"
      }
    },
    {
      "cell_type": "markdown",
      "source": [
        "<img src=\"https://raw.githubusercontent.com/paulodowd/EMATM0054_53/main/Images/exercise.png\" align=\"left\">  **Exercise:** Implement a low-pass filter of the form described above to be applied to both the left and right wheel speed estimates individually.  Remember that, we will want the previous value $S_{t-1}$ to be persistent, so we should make this a global variable (or similar, if you are working in a class).  Remember to work in small steps - so start with one wheel first.\n",
        "\n",
        "\n"
      ],
      "metadata": {
        "id": "wRe99ae1Puoc"
      }
    },
    {
      "cell_type": "markdown",
      "source": [
        "1. It is recommended to implement the low-pass filter within your `loop()` to begin with, just to validate that it is working.  You only want to update your low-pass filter when a new measurement is ready. Therefore, update your low pass filter immediately after the calculation of the speed estimate, within the `millis()` task scheduling block.\n",
        "  - Remember to initialise the value of your low-pass filter within `setup()`.\n",
        "  - Use the `Serial.print()` commands to output both the original speed estimate value and the low-pass filter value.  Report these as comma seperated values, so that they can be viewed on the **Serial Plotter**."
      ],
      "metadata": {
        "id": "nt8v_1dqRxtD"
      }
    },
    {
      "cell_type": "markdown",
      "source": [
        "<img src=\"https://raw.githubusercontent.com/paulodowd/EMATM0054_53/main/Images/observation.png\" align=\"left\"> **Observations:** Take some time to observe the effect of different values of $\\alpha$.  Try extreme values such as 0.001, and 0.999.  What do you notice, comparing the original estimate, and the low-pass filter value on the Serial Plotter?"
      ],
      "metadata": {
        "id": "TVK5g-g5Su58"
      }
    },
    {
      "cell_type": "markdown",
      "source": [
        "<img src=\"https://raw.githubusercontent.com/paulodowd/EMATM0054_53/main/Images/validate.png\" align=\"left\"> **Validate:** Take some time to consider edge-cases and error-cases.  Therefore, try writing some code within your `loop()` that will gradually vary either the demand speed (if using a PI-Controller), or the PWM (if using open-loop control).  Try also varying the demand speed or PWM suddenly - how does the filter respond?  What would be a sensible value of your filter if the robot was to stop for a period of time, and then begin moving again?"
      ],
      "metadata": {
        "id": "-bPzLbG-S-3O"
      }
    },
    {
      "cell_type": "markdown",
      "source": [
        "<img src=\"https://raw.githubusercontent.com/paulodowd/EMATM0054_53/main/Images/info.png\" align=\"left\"> **Information:** The Exponential Moving Average is a very useful equation to memorise that can be used elsewhere.  However, it is important to also recognise that when we utilise a digital filter, we unavoidably introduce lag (delay in our signal).  This is because it will take time to process some incoming signal into a new output signal.  As a general rule, the stronger the effect of the filter, the more lag we can expect to observe.  "
      ],
      "metadata": {
        "id": "da3XefoZWzVd"
      }
    },
    {
      "cell_type": "markdown",
      "source": [
        "<img src=\"https://raw.githubusercontent.com/paulodowd/EMATM0054_53/main/Images/info.png\" align=\"left\"> **Information:** If we have another process interacting with the world that has a time-critical nature, then we must ensure our filter is operating at a faster rate in an attempt to mitigate the lag.  For example, if we only update our filter at the same time as we update our time-critical process, our time-critical process will always have out of date information from the filter (lagged, delayed).    Imagine trying to catch a ball if there was a delay in your sensor signal.  This principle will be true if you are using the **PI-Controller**."
      ],
      "metadata": {
        "id": "hieH93n1YWRa"
      }
    },
    {
      "cell_type": "markdown",
      "source": [
        "<hr><br><br><br><br>"
      ],
      "metadata": {
        "id": "XZiE-TxFqQiA"
      }
    },
    {
      "cell_type": "markdown",
      "source": [
        "## PID Control\n",
        "\n",
        "To develop a PID controller, you will need to have completed the following:\n",
        "- the `Motor_c` class, especially the ability to call a function that takes a negative PWM and configures the motor correctly (e.g. `motors.setPWM( -50, 50 );`)\n",
        "- the previous exercise on measuring wheel speed.\n",
        "\n",
        "<img src=\"https://raw.githubusercontent.com/paulodowd/EMATM0054_53/main/Images/theory.png\" align=\"left\">   A nice example of PID being used for smooth motion control is the following video of an e-puck robot tracking a ball with a low-resolution camera: <a href=\"https://www.youtube.com/watch?v=Pga71leqf1A\">YouTube</a>.  Whilst not documented, it appears at least two PID controllers are being used:\n",
        "(1) tracking left to right position of ball, (2) tracking a set distance from the ball.\n",
        "\n",
        "<p align=\"center\">\n",
        "<img src=\"https://github.com/paulodowd/EMATM0054_53/blob/main/Images/PID_Overview.png?raw=true\">\n",
        "</p>\n",
        "\n",
        "The above diagram illustrates the general form of a PID controller.  Outside of the blue-dotted box, we can see that a measurement from the system output $y(t)$ is combined with a desired measurement $r(t)$, to form the error signal, $e(t)$:\n",
        "\n",
        "<p align=\"center\">\n",
        "$e(t) = r(t) - y(t)$\n",
        "</p>\n",
        "\n",
        "When we review the above diagram and equation, we can draw a very general but important understanding: the PID controller is acting a bit like a \"transformer\" - it takes in one type of units of measurement as the demand (wheel speed), and outputs another type of units to effect change (PWM, via `analogWrite()`).  Therefore, when we tune a PID controller, we are searching for the parameters that provide this relationship.  \n",
        "\n",
        "For the following exercises a complete PID class has been provided for you in the code stub in the header file `PID.h`, with the class template `PID_c`.  You may also find it useful to review pseudocode, such as on <a href=\"https://en.wikipedia.org/wiki/Proportional%E2%80%93integral%E2%80%93derivative_controller#Pseudocode\">this Wikipedia page</a>.\n",
        "\n",
        "Our main task in the following exercises is to learn to take steady and procedural steps to tune a PID controller.  This means finding appropriate values of the gains $K_{p}$, $K_{i}$ and $K_{d}$ through a process of trial and error.  "
      ],
      "metadata": {
        "id": "l4S4d6wUHh8Q"
      }
    },
    {
      "cell_type": "markdown",
      "source": [
        "## Exercise 5: PID Preparation\n",
        "\n",
        "<img src=\"https://raw.githubusercontent.com/paulodowd/EMATM0054_53/main/Images/exercise.png\" align=\"left\">  **Exercise:** To get started, we will need to select some parameters that will make tuning our PID-Controller easier.  Tuning a PID controller can quickly become confusing.  Therefore, we want to keep as many variables under our control as possible.  We want to take small steps, each time **validating** that everything is working as we expect or understand it to."
      ],
      "metadata": {
        "id": "UeO789ZAJl96"
      }
    },
    {
      "cell_type": "markdown",
      "source": [
        "1. Select a wheel speed measurement value that represents steady movement from your 3Pi+ robot - this means, not a fast speed!  We will use this wheel speed value as our future demand value for PID.\n",
        "  - Your wheel speed measurment is likely to be in either `encoder counts per ms` or `mm per ms`.  \n",
        "  - If you have decided to use another unit, such as `meters per second`, you are likely to measure very small values - this might cause you difficulties when plotting or reviewing the measurements.  Intuitively, the unit of a meter per second is not especially relevant to such a small robot.\n",
        "  - To find a good value, simply use some PWM values in `analogWrite()`, and report the measured wheel speed via `Serial.print()`.\n",
        "\n",
        "2. Review the class provided for you, `PID_c`.  \n",
        "\n",
        "3. Implement the following general structure into an Arduino sketch, including the other relevent parts of code (e.g., encoders, your speed measurement, etc).\n",
        "\n",
        "```c\n",
        "#include \"PID.h\"\n",
        "\n",
        "PID_c left_pid; // Let's just work with one motor to start\n",
        "\n",
        "float demand;   // Demand wheel speed.\n",
        "\n",
        "// We will use a timestamp and millis to change our\n",
        "// demand periodically, to test the response of the\n",
        "// PID\n",
        "unsigned long test_ts;\n",
        "#define TEST_MS 2000\n",
        "\n",
        "void setup() {\n",
        "\n",
        "  // Initialise all gains to zero for now.\n",
        "  left_pid.initialise( 0.0, 0.0, 0.0 );\n",
        "\n",
        "  // Prepare our testing timestamp\n",
        "  test_ts = millis();\n",
        "\n",
        "  // Remember to reset your PID if you have\n",
        "  // used any delay()\n",
        "  left_pid.reset();\n",
        "}\n",
        "\n",
        "void loop() {\n",
        "\n",
        "  // This flips the demand to be a wheel\n",
        "  // speed in the other direction every\n",
        "  // TEST_MS.  \n",
        "  if( millis() - test_ts > TEST_MS ) {\n",
        "    test_ts = millis();\n",
        "\n",
        "    demand = demand * -1.0;\n",
        "  }\n",
        "\n",
        "  // You will need to ensure you are calculating\n",
        "  // an estimate of wheel speed.\n",
        "  // ...\n",
        "  // ...\n",
        "\n",
        "\n",
        "  // You should encapsulate the following line within\n",
        "  // a task scheduling millis() block, similar to the\n",
        "  // above. You should schedule your pid update to be\n",
        "  // at a frequency slower than your speed estimate is\n",
        "  // updated.  Try 50ms.\n",
        "  // replace \"measurement\" with your wheel speed\n",
        "  // measurement variable.\n",
        "  float l_pwm = left_pid.update( demand, measurement );\n",
        "\n",
        "  // Just test the left motor\n",
        "  motors.setPWM( l_pwm, 0 );\n",
        "\n",
        "  // Serial prints to help us debug and tune\n",
        "  Serial.print( demand );\n",
        "  Serial.print( \",\" );\n",
        "  Serial.print( measurement );\n",
        "  Serial.print( \"\\n\" );\n",
        "\n",
        "}\n",
        "\n",
        "\n",
        "```"
      ],
      "metadata": {
        "id": "z4KSIAwvJ1-R"
      }
    },
    {
      "cell_type": "markdown",
      "source": [
        "## Exercise 6: P-Controller\n",
        "\n",
        "\n",
        "\n"
      ],
      "metadata": {
        "id": "bflYrGVIVqOa"
      }
    },
    {
      "cell_type": "markdown",
      "source": [
        "<img src=\"https://raw.githubusercontent.com/paulodowd/EMATM0054_53/main/Images/exercise.png\" align=\"left\">  **Exercise:** Integrating your code with the above code extract, follow the next steps to **validate** that your system is operating as you expect.   You should complete these steps **without activating the motor power**."
      ],
      "metadata": {
        "id": "i2Gfbk6zJQEm"
      }
    },
    {
      "cell_type": "markdown",
      "source": [
        "<p align=\"center\">\n",
        "<img src=\"https://raw.githubusercontent.com/paulodowd/EMATM0054_53/main/Images/L1_checking_demand_measurement.png\"><br>\n",
        "<small>Checking demand and measurement change . Note, the values are scaled up by 100 to make them visible.  The blue line is the demand value, which is alternating every 2000ms.  The red line is the speed measurement, achieved by moving the left wheel by hand.</small>\n",
        "</p>"
      ],
      "metadata": {
        "id": "zAuwHsM1Ssa0"
      }
    },
    {
      "cell_type": "markdown",
      "source": [
        "<img src=\"https://raw.githubusercontent.com/paulodowd/EMATM0054_53/main/Images/validate.png\" align=\"left\"> **Validate:** Validate that when you have a **positive demand value**, rotating the wheel by hand to move the forward robot **decreases the distance** between your **demand and measurement** via the plotter.  When the demand flips to negative, validate that the wheel rotation in the other direction approaches this negative demand value."
      ],
      "metadata": {
        "id": "RuqF7lNwOkT8"
      }
    },
    {
      "cell_type": "markdown",
      "source": [
        "<img src=\"https://raw.githubusercontent.com/paulodowd/EMATM0054_53/main/Images/observation.png\" align=\"left\"> **Observations:** The error within the PID ($e_{t}$) will be the difference between the **demand** and **measurement**. Therefore, when you are rotating the wheel by hand, you are acting at the PID controller to **minimise the error** (make the measurement match demand)."
      ],
      "metadata": {
        "id": "mcaZG2Y6Ts_k"
      }
    },
    {
      "cell_type": "markdown",
      "source": [
        "<img src=\"https://raw.githubusercontent.com/paulodowd/EMATM0054_53/main/Images/validate.png\" align=\"left\"> **Validate:** Manually set a positive PWM value via `analogWrite()` or `motors.setPWM();`, and check that this relates to a positive speed measurement (positive direction of travel).  Once you have validated this, remove the `analogWrite()` or `motors.setPWM()` used for this test."
      ],
      "metadata": {
        "id": "HJ55q-J8TdJH"
      }
    },
    {
      "cell_type": "markdown",
      "source": [
        "<img src=\"https://raw.githubusercontent.com/paulodowd/EMATM0054_53/main/Images/validate.png\" align=\"left\"> **Validate:** Add a `Serial.print()` command to also output the error calculated by `left_pid.update();`.  Check within the class template for the exact syntax.  You should be able to access `left_pid.last_error` from within `loop()`.  Check whether the error is reporting as positive or negative when the **demand is positive**."
      ],
      "metadata": {
        "id": "gWNvEdMUUDpx"
      }
    },
    {
      "cell_type": "markdown",
      "source": [
        "<img src=\"https://raw.githubusercontent.com/paulodowd/EMATM0054_53/main/Images/hypothesis.png\" align=\"left\">**Hypothesise:** When the **demand is positive**, and we want a **positive PWM output**, what sign should $K_{p}$ have to achieve this effect?  This will depend on the sign of your error measurement."
      ],
      "metadata": {
        "id": "gfkCsVh6UvOq"
      }
    },
    {
      "cell_type": "markdown",
      "source": [
        "<img src=\"https://raw.githubusercontent.com/paulodowd/EMATM0054_53/main/Images/observation.png\" align=\"left\"> **Observations:** Relating to the above hypothesis, observe that the sign of the error will depend on whether it is calculated as `demand - measurement`, or `measurement - demand`.  Either of these is correct, or rather, neither is incorrect.  Which to use will depend entirely on how your have implemented your system.  Is your speed measurement positive for a forward direction of travel?  Is your PWM sign positive for a forward direction of travel?  It is important to have a clear understand of how these aspects inter-relate.  Overall, **what we want to happen** is for the **error to be minimised by outputting a useful PWM signal**."
      ],
      "metadata": {
        "id": "lWTOTgvpU8xx"
      }
    },
    {
      "cell_type": "markdown",
      "source": [
        "<img src=\"https://raw.githubusercontent.com/paulodowd/EMATM0054_53/main/Images/exercise.png\" align=\"left\">  **Exercise:** Find the line `left_pid.initialise( 0.0, 0.0, 0.0 );` and change the first argument to a **guess** for a correct value.  As a general rule, start lower than you expect.  \n",
        "  "
      ],
      "metadata": {
        "id": "od8XGzHJV6VU"
      }
    },
    {
      "cell_type": "markdown",
      "source": [
        "- Remember, a P-Controller will multiply the error by $K_{p}$ to produce the output.  Therefore, for the error values you have been observing with your tests, what value of $K_{p}$ is **likely** to produce a useful PWM output value?\n",
        "- Adjust your $K_{p}$ value and observe the effect."
      ],
      "metadata": {
        "id": "8oSo2DeNWPX6"
      }
    },
    {
      "cell_type": "markdown",
      "source": [
        "<img src=\"https://raw.githubusercontent.com/paulodowd/EMATM0054_53/main/Images/stop.png\" align=\"left\"> Allowing the motor to **run at high speed for a long time** will cause the motor to **overheat** and become **permanently damaged**.  You will **smell this happening** - don't let it happen!  If you have a problem with your code you **should turn the robot off whilst you work on solving it**."
      ],
      "metadata": {
        "id": "4_D7ySr5WhCQ"
      }
    },
    {
      "cell_type": "markdown",
      "source": [
        "<img src=\"https://raw.githubusercontent.com/paulodowd/EMATM0054_53/main/Images/info.png\" align=\"left\"> **Information:** Your robot and PID controller are going to perform differently when **off the surface** and **on the surface**.  Start your testing with the robot off the surface.  However, you will find that the performance is generally **improved on the surface**, because the mechanics and dynamics of the robot will **dampen** the reponse (reduce oscillations).  Remember that we are tuning the PID controller for it's real application (on the surface!)."
      ],
      "metadata": {
        "id": "Zgln6xxZa7D_"
      }
    },
    {
      "cell_type": "markdown",
      "source": [
        "<img src=\"https://raw.githubusercontent.com/paulodowd/EMATM0054_53/main/Images/info.png\" align=\"left\"> **Information:** We are currently investigating just one motor. However, it may be difficult if your robot is driving in circles, and so twisting the USB cable.  A quick solution is to send the feedback for the left motor (`l_pwm` in the code extract above) to both motors (e.g., `motors.setPWM( l_pwm, l_pwm );`.  **This is not our final solution!**.  It would mean the right motor was not operating in closed-loop control.  Towards the end of these exercises, we will create a second PID controller for the right motor."
      ],
      "metadata": {
        "id": "y0XV-z22pX02"
      }
    },
    {
      "cell_type": "markdown",
      "source": [
        "<p align=\"center\">\n",
        "<img src=\"https://raw.githubusercontent.com/paulodowd/EMATM0054_53/main/Images/L1_kp_too_small.png\"><br>\n",
        "<small>This is an example output where $K_{p}$ was **too small**.  We can read the red line (measurement) to understand that the motor was occasionally activating, but lacked sufficient power overall.</small>\n",
        "</p>\n"
      ],
      "metadata": {
        "id": "hoENXE2bbS7E"
      }
    },
    {
      "cell_type": "markdown",
      "source": [
        "<p align=\"center\">\n",
        "<img src=\"https://raw.githubusercontent.com/paulodowd/EMATM0054_53/main/Images/L1_kp_too_big.png\"><br>\n",
        "<small>This is an example output where $K_{p}$ was **too big**.  We can read the red line (measurement) to understand that the motor was activating with too much power, which caused the error to flip, and send the motor immediately in the opposite direction (oscillation).  </small>\n",
        "</p>"
      ],
      "metadata": {
        "id": "3rqk0ZJHbxr3"
      }
    },
    {
      "cell_type": "markdown",
      "source": [
        "<p align=\"center\">\n",
        "<img src=\"https://raw.githubusercontent.com/paulodowd/EMATM0054_53/main/Images/L1_kp_onOff_surface.png\"><br>\n",
        "<small>This is an example output where $K_{p}$ has a value that is **good enough**.  We can read the red line (measurement) to understand that the motor is activating in the right direction, but never matches the demand.  This is known as **steady-state error**.  With a P-Controller for wheel speed, this is the best that can be achieved.  Also notice that, when the robot was lifted off the surface, the P-Controller went into oscillation.</small>\n",
        "</p>"
      ],
      "metadata": {
        "id": "9zdLkyZQcE4q"
      }
    },
    {
      "cell_type": "markdown",
      "source": [
        "<img src=\"https://raw.githubusercontent.com/paulodowd/EMATM0054_53/main/Images/hypothesis.png\" align=\"left\">**Hypothesise:** A P-Controller for wheel speed will not be able to match measurement to demand.  Why might this be?  Consider what happens to the error ($e_{t}$) when the measurement is near to demand, and the relationship with $K_{p}$.  "
      ],
      "metadata": {
        "id": "wHQH_OoudP-a"
      }
    },
    {
      "cell_type": "markdown",
      "source": [
        "<hr><br><br><br><br>"
      ],
      "metadata": {
        "id": "jgZO4Sj0wcEE"
      }
    },
    {
      "cell_type": "markdown",
      "source": [
        "## Exercise 7: PI-Controller\n",
        "\n",
        "<img src=\"https://raw.githubusercontent.com/paulodowd/EMATM0054_53/main/Images/theory.png\" align=\"left\">   The **I-term** of PID has a reputation for being difficult and confusing.  Therefore, we will take incremental steps to test and validate the I-term alone, before testing a full PI-Controller (P-term and I-term combined).  \n",
        "\n"
      ],
      "metadata": {
        "id": "5JEdianHVr86"
      }
    },
    {
      "cell_type": "markdown",
      "source": [
        "We can informally understand the I-term to: _\"integrate error whilst the system remains in error\"_.  This means that, if the motor power is off, the I-term will grow in magnitude over time.  This is because the motors are not moving, and yet there is a demand - creating a persistent error.  Therefore, when we later turn the motors on, the I-term will give a huge feedback value (PWM), causing the robot to zoom of the table.  This is known as **integral wind-up**, and it has something of a bad reputation.  Integral wind-up is a difficult issue in a position controller, where we want a mechanism to come to a stop at a precise position (like a gantry, or 3D printer).\n",
        "\n",
        "In our system, some integral wind-up is desirable.  Consider, in our system, if we stop providing power to the motor (PWM), the motor will slow down and stop.  This is similar to a quadcopter (UAV, drone) - if we reduce the power to the rotor motors, the quadcopter will descend or fall out of the sky.  \n",
        "\n",
        "In the last exercise, we also **observed** that as the P-term increased the motor power to reach demand, the error reduced towards 0, and this causes an inherent problem: a P-Controller for wheel speed cannot match demand.  As soon as the P-Controller gets close to the demand, $K_{p}$ operates on a very small error and effectively disables the motors.  We have observed this as **steady-state error**.\n",
        "\n",
        "We want **integral wind-up** to fix this steady-state error.  It is useful to think that:\n",
        "- The P-Term will give the initial movement, overcoming stiction and other properties.\n",
        "- The I-term will fix steady-state error, effectively \"lifting\" the output to reach demand.\n",
        "\n",
        "In the following exercises, we will start by **validating** that the I-term is operating in the way we understand and expect.  We will do this by focusing on just the I-term first.\n"
      ],
      "metadata": {
        "id": "kBRTowwFfIGC"
      }
    },
    {
      "cell_type": "markdown",
      "source": [
        "<img src=\"https://raw.githubusercontent.com/paulodowd/EMATM0054_53/main/Images/exercise.png\" align=\"left\">  **Exercise:** In preparation, temporarily disable the periodic change to the demand.  You can do this by commenting-out the line `demand = demand * -1.0;`.  If the demand is changing, this will get confusing."
      ],
      "metadata": {
        "id": "Wjx-An04eYuI"
      }
    },
    {
      "cell_type": "markdown",
      "source": [
        "<img src=\"https://raw.githubusercontent.com/paulodowd/EMATM0054_53/main/Images/exercise.png\" align=\"left\">  **Exercise:** Find the line `left_pid.initialise( 0.0, 0.0, 0.0 );` and change the second argument to a very small value, such as `0.001`.  Leave the other arguments as 0.0 - e.g. `left_pid.initialise( 0.0, 0.001, 0.0 );`.  The I-term can integrate very quickly, and then cause crazy oscillations very quickly.  Therefore, start with $K_{i}$ very small."
      ],
      "metadata": {
        "id": "h_R3HdGPeGPS"
      }
    },
    {
      "cell_type": "markdown",
      "source": [
        "<img src=\"https://raw.githubusercontent.com/paulodowd/EMATM0054_53/main/Images/validate.png\" align=\"left\"> **Validate:** Add a `Serial.print()` command to print the I-term from the PID class.  Check the `PID_c` class template for the syntax.  You should be able to use `left_pid.i_term;` from `loop()`.  **With the motors off**, check the output of the I-term using the Serial Plotter. Verify that for a positive demand, the I-term is increasing.  Once you have done this, validate that for a negative demand, the I-term is decreasing."
      ],
      "metadata": {
        "id": "hBmZR-oPhjIs"
      }
    },
    {
      "cell_type": "markdown",
      "source": [
        "<p align=\"center\">\n",
        "<img src=\"https://raw.githubusercontent.com/paulodowd/EMATM0054_53/main/Images/L1_small_iTerm_growing.png\"><br>\n",
        "<small>This is an example output where $K_{i}=0.001$, and the **I-term** is the green line.  We can see that the blue line (demand) is constant and positive, whilst the red line (measurement) is constant and 0.  Therefore, the system has persistent errro.  We can read the green line to understand that I-term is integrating this error over time, and therefore increasing in magnitude.\n",
        " Because the I-term is moving towards the demand, we can validate it as operating correctly.</small>\n",
        "</p>"
      ],
      "metadata": {
        "id": "PZDMnC5qiwHG"
      }
    },
    {
      "cell_type": "markdown",
      "source": [
        "<img src=\"https://raw.githubusercontent.com/paulodowd/EMATM0054_53/main/Images/exercise.png\" align=\"left\">  **Exercise:** Once you have validated that your I-term is operating as expected, try activating your motor power.  With $K_{i}$ set to a small value, you should hear and then see a very slow and gradual increase of wheel speed.  You can use the Serial Monitor to view the current value of the I-term.  Note that this will be the PWM value output (with the P-term currently disabled, $K_{p}=0$).  It should therefore make sense that the motor is taking a very long time to increase in speed."
      ],
      "metadata": {
        "id": "tp9GdSzPjYQ-"
      }
    },
    {
      "cell_type": "markdown",
      "source": [
        "<img src=\"https://raw.githubusercontent.com/paulodowd/EMATM0054_53/main/Images/observation.png\" align=\"left\"> **Observations:** Testing in cycles of programming your robot, try increasing the value of $K_{i}$ in small increments, and observe the effect."
      ],
      "metadata": {
        "id": "s1lW5kx9kEzK"
      }
    },
    {
      "cell_type": "markdown",
      "source": [
        "<p align=\"center\">\n",
        "<img src=\"https://raw.githubusercontent.com/paulodowd/EMATM0054_53/main/Images/L1_slow_iTerm_effect.png\"><br>\n",
        "<small>A plot of the I-term with the motor power activated.  The the green line is the I-term, the blue line is the demand, the red line is the measurement.  This plot shows a response when $K_{p}=1$, $K_{p}=0.01$ and $K_{d}=0$.  $K_{i}$ is still too small, so the system is responding slowly.  However, it does match demand to measurement.  </small>\n",
        "</p>"
      ],
      "metadata": {
        "id": "HRiy1ET1ksyv"
      }
    },
    {
      "cell_type": "markdown",
      "source": [
        "<img src=\"https://raw.githubusercontent.com/paulodowd/EMATM0054_53/main/Images/info.png\" align=\"left\"> **Information:** In the above plot, we see that the I-term is increasing for a period, and yet the **measurement** remains zero.  The specialist term for this phenomenon with motors is called **deadband**.  One of the impacts of **deadband** is that a range of PWM values are essentially non-functional (produce no rotation output).  Therefore, if deadband is not addressed, your robot will not be able to move at low (slow) speeds.  A PI-Controller can mitigate this by strobing the output, which is a bit like applying PWM to the PWM signal generated by `analogWrite()`.  Therefore, an advantage of a PI-Controller is the ability to drive at slow speeds."
      ],
      "metadata": {
        "id": "zFm0ZMtLNuqT"
      }
    },
    {
      "cell_type": "markdown",
      "source": [
        "<img src=\"https://raw.githubusercontent.com/paulodowd/EMATM0054_53/main/Images/hypothesis.png\" align=\"left\">**Hypothesise:** In the above plot, from approximately sample 6500 (x-axis) we see that the I-term stops growing - why is this?  How is this effect created? Why does the I-term not continue to **wind-up**?"
      ],
      "metadata": {
        "id": "BZIc59OVlh2q"
      }
    },
    {
      "cell_type": "markdown",
      "source": [
        "<img src=\"https://raw.githubusercontent.com/paulodowd/EMATM0054_53/main/Images/exercise.png\" align=\"left\">  **Exercise:** Try increasing the value of $K_{i}$ further, to achieve a quicker response to match demand to measurement.  You should notice that your system becomes prone to oscillating.  This is because the I-term has become too **coarse**, it is responding too aggressively to steady-state error, and so jumping the output signal too much and too fast."
      ],
      "metadata": {
        "id": "o9ELywkOl3iF"
      }
    },
    {
      "cell_type": "markdown",
      "source": [
        "<img src=\"https://raw.githubusercontent.com/paulodowd/EMATM0054_53/main/Images/exercise.png\" align=\"left\">  **Exercise:** Add your P-term ($K_{p}$) back into your `left_pid.initialise( );` call.  Because the P-term and I-term are now working together, you may need to reduce both $K_{p}$ and $K_{i}$.  Explore different values of these gains."
      ],
      "metadata": {
        "id": "axnD5YUcmIjX"
      }
    },
    {
      "cell_type": "markdown",
      "source": [
        "<p align=\"center\">\n",
        "<img src=\"https://raw.githubusercontent.com/paulodowd/EMATM0054_53/main/Images/L1_iTerm_reasonable.png\"><br>\n",
        "<small>A plot of a PI-Controller with reasonable tuning - but it could still be improved further.  This plot has been selected because we can still clearly observe the additive effect of the P-term and I-term. Note that the demand matches measurement quite quickly initially, and the I-term continues to integrate at a reasonable pace. </small>\n",
        "</p>"
      ],
      "metadata": {
        "id": "h7lHDptqn1Ci"
      }
    },
    {
      "cell_type": "markdown",
      "source": [
        "<img src=\"https://raw.githubusercontent.com/paulodowd/EMATM0054_53/main/Images/info.png\" align=\"left\"> **Information:** In the above plot, we can still observe noise on the speed measurement.  Importantly, you should evaluate whether this has a significant effect in the obervable performance of your robot.  It is unlikely that all noise can be mitigated - instead, we want to assess the real-world performance of our robot to understand if the noise is significant or not."
      ],
      "metadata": {
        "id": "t7WDePd_o5pX"
      }
    },
    {
      "cell_type": "markdown",
      "source": [
        "<img src=\"https://raw.githubusercontent.com/paulodowd/EMATM0054_53/main/Images/exercise.png\" align=\"left\">  **Exercise:** Once you are happy with the $K_{p}$ and $K_{i}$ gains for your left motor, try reproducing this work for the right motor.  You can try using the same gains.  However, you should also expect better performance if each motor is tuned individually.  Note that, to operate another PID controller for the right motor, you can create a second instance of the `PID_c` class, as shown below:\n",
        "\n",
        "```c\n",
        "#include \"PID.h\"\n",
        "\n",
        "PID_c left_pid;  // To control the left motor\n",
        "PID_c right_pid; // To control the right motor\n",
        "\n",
        "\n",
        "float demand;   // Demand wheel speed.\n",
        "\n",
        "// We will use a timestamp and millis to change our\n",
        "// demand periodically, to test the response of the\n",
        "// PID\n",
        "unsigned long test_ts;\n",
        "#define TEST_MS 2000\n",
        "\n",
        "void setup() {\n",
        "\n",
        "  // Initialise all gains to zero for now.\n",
        "  left_pid.initialise( 0.0, 0.0, 0.0 );\n",
        "  right_pid.initialise( 0.0, 0.0, 0.0 );\n",
        "\n",
        "  // Prepare our testing timestamp\n",
        "  test_ts = millis();\n",
        "\n",
        "  // Remember to reset your PID if you have\n",
        "  // used any delay()\n",
        "  left_pid.reset();\n",
        "  right_pid.reset();\n",
        "}\n",
        "\n",
        "void loop() {\n",
        "\n",
        "  // This flips the demand to be a wheel\n",
        "  // speed in the other direction every\n",
        "  // TEST_MS.  \n",
        "  if( millis() - test_ts > TEST_MS ) {\n",
        "    test_ts = millis();\n",
        "\n",
        "    demand = demand * -1.0;\n",
        "  }\n",
        "\n",
        "  // You will need to ensure you are calculating\n",
        "  // an estimate of wheel speed.\n",
        "  // ...\n",
        "  // ...\n",
        "\n",
        "\n",
        "  // You should encapsulate the following line within\n",
        "  // a task scheduling millis() block, similar to the\n",
        "  // above. You should schedule your pid update to be\n",
        "  // at a frequency slower than your speed estimate is\n",
        "  // updated.  Try 50ms.\n",
        "  // replace \"measurement\" with your wheel speed\n",
        "  // measurement variable.\n",
        "  float l_pwm = left_pid.update( demand, measurement );\n",
        "  float r_pwm = right_pid.update( demand, measurement );\n",
        "\n",
        "  // Just test the left motor\n",
        "  motors.setPWM( l_pwm, r_pwm );\n",
        "\n",
        "  // Serial prints to help us debug and tune\n",
        "  Serial.print( demand );\n",
        "  Serial.print( \",\" );\n",
        "  Serial.print( measurement );\n",
        "  Serial.print( \"\\n\" );\n",
        "\n",
        "}\n",
        "\n",
        "\n",
        "```"
      ],
      "metadata": {
        "id": "wD--HD6ToGgh"
      }
    },
    {
      "cell_type": "markdown",
      "metadata": {
        "id": "eMQUEgwvryvW"
      },
      "source": [
        "<hr><br><br><br><br>"
      ]
    },
    {
      "cell_type": "markdown",
      "metadata": {
        "id": "K9wvT69v1WLh"
      },
      "source": [
        "<hr><br><br><br><br>"
      ]
    }
  ]
}